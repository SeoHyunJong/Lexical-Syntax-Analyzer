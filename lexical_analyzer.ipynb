{
 "cells": [
  {
   "cell_type": "markdown",
   "metadata": {},
   "source": [
    "### 필요한 라이브러리 Import"
   ]
  },
  {
   "cell_type": "code",
   "execution_count": 1,
   "metadata": {},
   "outputs": [],
   "source": [
    "import sys #input 파일 받아올때 필요."
   ]
  },
  {
   "cell_type": "markdown",
   "metadata": {},
   "source": [
    "### 클래스 정의"
   ]
  },
  {
   "cell_type": "code",
   "execution_count": 89,
   "metadata": {},
   "outputs": [],
   "source": [
    "class DFA:\n",
    "    cur = 0 #초기 start state\n",
    "    accept = True # accept : final에 도달했는가\n",
    "    \n",
    "    def set_symbol(self, symbol): #input string in DFA.symbol 을 이용하여 DFA 추리기\n",
    "        self.symbol = symbol\n",
    "            \n",
    "    def read_transition(self, transition):\n",
    "        self.transition = transition\n",
    "            \n",
    "    def set_final(self, final): #final은 정수형으로 받자\n",
    "        self.final = final\n",
    "    \n",
    "    def go_next_state(self, symbol):\n",
    "        next_idx = self.transition[self.cur][symbol]\n",
    "        if next_idx == 'E': # 'E' 는 공집합\n",
    "            self.accept = False\n",
    "        else:\n",
    "            self.cur = int(next_idx)\n",
    "            \n",
    "    def is_accept(self):\n",
    "        if self.accept:\n",
    "            if self.cur in self.final:\n",
    "                self.accept = True\n",
    "            else:\n",
    "                self.accept = False\n",
    "            "
   ]
  },
  {
   "cell_type": "markdown",
   "metadata": {},
   "source": [
    "### DFA 인스턴스 생성 및 트랜지션 테이블 입력"
   ]
  },
  {
   "cell_type": "code",
   "execution_count": 90,
   "metadata": {},
   "outputs": [],
   "source": [
    "_INTEGER = DFA()\n",
    "_INTEGER.set_symbol(['0', '1', '2', '3', '4', '5', '6', '7', '8', '9', '-'])\n",
    "_INTEGER.set_final([1, 3, 4])\n",
    "transition_integer = [ {'0':'1', '1':'3', '2':'3', '3':'3', '4':'3', '5':'3', '6':'3', '7':'3', '8':'3', '9':'3', '-':'2'},\n",
    "                       {'0':'E', '1':'E', '2':'E', '3':'E', '4':'E', '5':'E', '6':'E', '7':'E', '8':'E', '9':'E', '-':'E'},\n",
    "                       {'0':'E', '1':'3', '2':'3', '3':'3', '4':'3', '5':'3', '6':'3', '7':'3', '8':'3', '9':'3', '-':'E'},\n",
    "                       {'0':'4', '1':'4', '2':'4', '3':'4', '4':'4', '5':'4', '6':'4', '7':'4', '8':'4', '9':'4', '-':'E'},\n",
    "                       {'0':'4', '1':'4', '2':'4', '3':'4', '4':'4', '5':'4', '6':'4', '7':'4', '8':'4', '9':'4', '-':'E'}\n",
    "                     ]\n",
    "_INTEGER.read_transition(transition_integer)"
   ]
  },
  {
   "cell_type": "markdown",
   "metadata": {},
   "source": [
    "### Input string"
   ]
  },
  {
   "cell_type": "code",
   "execution_count": 96,
   "metadata": {},
   "outputs": [],
   "source": [
    "input_string = '0123'\n",
    "\n",
    "_INTEGER.accept = True # accept 초기화\n",
    "_INTEGER.cur = 0 # current state 초기화\n",
    "\n",
    "out_string = ''\n",
    "\n",
    "for character in input_string:\n",
    "    if character in _INTEGER.symbol:\n",
    "        _INTEGER.go_next_state(character)\n",
    "        if _INTEGER.accept == False:\n",
    "            out_string = ''\n",
    "            break\n",
    "        else:\n",
    "            out_string = out_string + character\n",
    "\n",
    "_INTEGER.is_accept()\n",
    "\n",
    "if _INTEGER.accept:\n",
    "    print(\"INTEGER  {0}\".format(out_string))"
   ]
  },
  {
   "cell_type": "code",
   "execution_count": null,
   "metadata": {},
   "outputs": [],
   "source": []
  }
 ],
 "metadata": {
  "kernelspec": {
   "display_name": "Python 3",
   "language": "python",
   "name": "python3"
  },
  "language_info": {
   "codemirror_mode": {
    "name": "ipython",
    "version": 3
   },
   "file_extension": ".py",
   "mimetype": "text/x-python",
   "name": "python",
   "nbconvert_exporter": "python",
   "pygments_lexer": "ipython3",
   "version": "3.8.5"
  }
 },
 "nbformat": 4,
 "nbformat_minor": 4
}
