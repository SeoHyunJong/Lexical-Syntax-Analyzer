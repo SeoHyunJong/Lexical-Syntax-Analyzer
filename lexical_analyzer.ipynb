{
 "cells": [
  {
   "cell_type": "markdown",
   "metadata": {},
   "source": [
    "### 필요한 라이브러리 Import"
   ]
  },
  {
   "cell_type": "code",
   "execution_count": 1,
   "metadata": {},
   "outputs": [],
   "source": [
    "import sys #input 파일 받아올때 필요."
   ]
  },
  {
   "cell_type": "markdown",
   "metadata": {},
   "source": [
    "### 클래스 정의"
   ]
  },
  {
   "cell_type": "code",
   "execution_count": 2,
   "metadata": {},
   "outputs": [],
   "source": [
    "class DFA:\n",
    "    cur = 0 #초기 start state\n",
    "    \n",
    "    def set_symbol(self, symbol): #input string in DFA.symbol 을 이용하여 DFA 추리기\n",
    "        self.symbol = symbol\n",
    "            \n",
    "    def read_transition(self, transition):\n",
    "        self.transition = transition\n",
    "            \n",
    "    def set_final(self, final): #final은 정수형으로 받자\n",
    "        self.final = final\n",
    "    \n",
    "    def go_next_state(self, symbol):\n",
    "        if symbol in self.symbol:\n",
    "            next_idx = self.transition[cur][symbol]\n",
    "            if next_idx == 'E': # 'E' 는 공집합\n",
    "                self.accept = False # accept : final에 도달했는가\n",
    "            else:\n",
    "                self.cur = int(next_idx)\n",
    "        elif self.cur in self.final:\n",
    "            self.accept = True\n",
    "            "
   ]
  },
  {
   "cell_type": "code",
   "execution_count": null,
   "metadata": {},
   "outputs": [],
   "source": []
  }
 ],
 "metadata": {
  "kernelspec": {
   "display_name": "Python 3",
   "language": "python",
   "name": "python3"
  },
  "language_info": {
   "codemirror_mode": {
    "name": "ipython",
    "version": 3
   },
   "file_extension": ".py",
   "mimetype": "text/x-python",
   "name": "python",
   "nbconvert_exporter": "python",
   "pygments_lexer": "ipython3",
   "version": "3.8.5"
  }
 },
 "nbformat": 4,
 "nbformat_minor": 4
}
