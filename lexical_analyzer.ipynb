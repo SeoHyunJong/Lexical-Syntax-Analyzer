{
 "cells": [
  {
   "cell_type": "markdown",
   "metadata": {},
   "source": [
    "### 필요한 라이브러리 Import"
   ]
  },
  {
   "cell_type": "code",
   "execution_count": 1,
   "metadata": {},
   "outputs": [],
   "source": [
    "import sys #input 파일 받아올때 필요."
   ]
  },
  {
   "cell_type": "markdown",
   "metadata": {},
   "source": [
    "### 클래스 정의"
   ]
  },
  {
   "cell_type": "code",
   "execution_count": 44,
   "metadata": {},
   "outputs": [],
   "source": [
    "class DFA:\n",
    "    cur = 0 #초기 start state\n",
    "    accept = True # accept : final에 도달했는가\n",
    "    pop_string = ''\n",
    "    garbage = '' #symbol 이 아닌 값을 쓰레기통에 하나 저장 (Literal, ID 문제 때문에 그렇다.)\n",
    "    \n",
    "    def dfa_clear(self):\n",
    "        self.cur = 0\n",
    "        self.accept = True\n",
    "        self.pop_string = ''\n",
    "    \n",
    "    def garbage_clear(self):\n",
    "        self.garbage = ''\n",
    "        \n",
    "    def set_name(self, name):\n",
    "        self.name = name\n",
    "        \n",
    "    def set_symbol(self, symbol): #input string in DFA.symbol 을 이용하여 DFA 추리기\n",
    "        self.symbol = symbol\n",
    "            \n",
    "    def read_transition(self, transition):\n",
    "        self.transition = transition\n",
    "            \n",
    "    def set_final(self, final): #final은 정수형으로 받자\n",
    "        self.final = final\n",
    "    \n",
    "    def go_next_state(self, symbol):\n",
    "        next_idx = self.transition[self.cur][symbol]\n",
    "        if next_idx == 'E': # 'E' 는 공집합\n",
    "            self.accept = False\n",
    "        else:\n",
    "            self.cur = int(next_idx)\n",
    "            \n",
    "    def is_accept(self):\n",
    "        if self.accept:\n",
    "            if self.cur in self.final:\n",
    "                self.accept = True\n",
    "            else:\n",
    "                self.accept = False\n",
    "                \n",
    "                \n",
    "class DFA_normal(DFA):\n",
    "    def analyzer(self, character):\n",
    "        if character in self.symbol:\n",
    "            self.go_next_state(character)\n",
    "            if self.accept == False:\n",
    "                self.dfa_clear()\n",
    "            else:\n",
    "                self.pop_string = self.pop_string + character\n",
    "        elif character in common_sym:\n",
    "            self.is_accept()\n",
    "            if self.accept and self.garbage == '':\n",
    "                print(\"{0}   {1}\\n\".format(self.name,self.pop_string))\n",
    "            self.garbage_clear()\n",
    "            self.dfa_clear()\n",
    "        else:\n",
    "            self.garbage = character\n",
    "            self.dfa_clear()\n",
    "            \n",
    "class DFA_integer(DFA): # integer를 위한 클래스. 망할 - 때문에 그렇다!\n",
    "    def analyzer(self, character):\n",
    "        if character in self.symbol:\n",
    "            self.go_next_state(character)\n",
    "            if self.accept == False:\n",
    "                if character == '-' and self.pop_string != '-': # -- 오류 방지\n",
    "                    print(\"{0}   {1}\\n\".format(self.name,self.pop_string))\n",
    "                self.dfa_clear()\n",
    "            else:\n",
    "                self.pop_string = self.pop_string + character\n",
    "        elif character in common_sym:\n",
    "            self.is_accept()\n",
    "            if self.accept and self.garbage == '':\n",
    "                print(\"{0}   {1}\\n\".format(self.name,self.pop_string))\n",
    "            self.garbage_clear()\n",
    "            self.dfa_clear()\n",
    "        else:\n",
    "            self.garbage = character\n",
    "            self.dfa_clear()\n",
    "            "
   ]
  },
  {
   "cell_type": "markdown",
   "metadata": {},
   "source": [
    "### DFA 인스턴스 생성 및 트랜지션 테이블 입력"
   ]
  },
  {
   "cell_type": "code",
   "execution_count": 45,
   "metadata": {},
   "outputs": [],
   "source": [
    "common_sym = ['+', '-', '*', '/', '=', ' ', '<', '>', '!', ';', '(', ')', '[', ']', '{', '}', ',', '\\n', '\\t']\n",
    "###############################################\n",
    "_INTEGER = DFA_integer()\n",
    "_INTEGER.set_name('INTEGER')\n",
    "_INTEGER.set_symbol(['0', '1', '2', '3', '4', '5', '6', '7', '8', '9', '-'])\n",
    "_INTEGER.set_final([1, 3, 4])\n",
    "transition_integer = [ {'0':'1', '1':'3', '2':'3', '3':'3', '4':'3', '5':'3', '6':'3', '7':'3', '8':'3', '9':'3', '-':'2'},\n",
    "                       {'0':'E', '1':'E', '2':'E', '3':'E', '4':'E', '5':'E', '6':'E', '7':'E', '8':'E', '9':'E', '-':'E'},\n",
    "                       {'0':'E', '1':'3', '2':'3', '3':'3', '4':'3', '5':'3', '6':'3', '7':'3', '8':'3', '9':'3', '-':'E'},\n",
    "                       {'0':'4', '1':'4', '2':'4', '3':'4', '4':'4', '5':'4', '6':'4', '7':'4', '8':'4', '9':'4', '-':'E'},\n",
    "                       {'0':'4', '1':'4', '2':'4', '3':'4', '4':'4', '5':'4', '6':'4', '7':'4', '8':'4', '9':'4', '-':'E'}\n",
    "                     ]\n",
    "_INTEGER.read_transition(transition_integer)\n",
    "################################################\n",
    "_INT = DFA_normal()\n",
    "_INT.set_name('INT')\n",
    "_INT.set_symbol(['i', 'n', 't'])\n",
    "_INT.set_final([3,])\n",
    "transition_int     = [ {'i':'1', 'n':'E', 't':'E'},\n",
    "                       {'i':'E', 'n':'2', 't':'E'},\n",
    "                       {'i':'E', 'n':'E', 't':'3'},\n",
    "                       {'i':'E', 'n':'E', 't':'E'}\n",
    "                     ]\n",
    "_INT.read_transition(transition_int)\n",
    "################################################\n",
    "_CHAR = DFA_normal()\n",
    "_CHAR.set_name('CHAR')\n",
    "_CHAR.set_symbol(['c', 'h', 'a', 'r'])\n",
    "_CHAR.set_final([4,])\n",
    "transition_char    = [ {'c':'1', 'h':'E', 'a':'E', 'r':'E'},\n",
    "                       {'c':'E', 'h':'2', 'a':'E', 'r':'E'},\n",
    "                       {'c':'E', 'h':'E', 'a':'3', 'r':'E'},\n",
    "                       {'c':'E', 'h':'E', 'a':'E', 'r':'4'},\n",
    "                       {'c':'E', 'h':'E', 'a':'E', 'r':'E'},\n",
    "                     ]\n",
    "_CHAR.read_transition(transition_char)\n",
    "################################################\n",
    "_BOOL = DFA_normal()\n",
    "_BOOL.set_name('BOOL')\n",
    "_BOOL.set_symbol(['b', 'o', 'l'])\n",
    "_BOOL.set_final([4,])\n",
    "transition_bool    = [ {'b':'1', 'o':'E', 'l':'E'},\n",
    "                       {'b':'E', 'o':'2', 'l':'E'},\n",
    "                       {'b':'E', 'o':'3', 'l':'E'},\n",
    "                       {'b':'E', 'o':'E', 'l':'4'},\n",
    "                       {'b':'E', 'o':'E', 'l':'E'}\n",
    "                     ]\n",
    "_BOOL.read_transition(transition_bool)\n",
    "################################################\n",
    "_STRING = DFA_normal()\n",
    "_STRING.set_name('STRING')\n",
    "_STRING.set_symbol(['S', 't', 'r', 'i', 'n', 'g'])\n",
    "_STRING.set_final([6,])\n",
    "transition_string  = [ {'S':'1', 't':'E', 'r':'E', 'i':'E', 'n':'E', 'g':'E'},\n",
    "                       {'S':'E', 't':'2', 'r':'E', 'i':'E', 'n':'E', 'g':'E'},\n",
    "                       {'S':'E', 't':'E', 'r':'3', 'i':'E', 'n':'E', 'g':'E'},\n",
    "                       {'S':'E', 't':'E', 'r':'E', 'i':'4', 'n':'E', 'g':'E'},\n",
    "                       {'S':'E', 't':'E', 'r':'E', 'i':'E', 'n':'5', 'g':'E'},\n",
    "                       {'S':'E', 't':'E', 'r':'E', 'i':'E', 'n':'E', 'g':'6'},\n",
    "                       {'S':'E', 't':'E', 'r':'E', 'i':'E', 'n':'E', 'g':'E'}\n",
    "                     ]\n",
    "_STRING.read_transition(transition_string)"
   ]
  },
  {
   "cell_type": "markdown",
   "metadata": {},
   "source": [
    "### Input string\n",
    "한 줄씩 읽어서 처리한다. DFA에 속하지 않는 symbol 이 오면 string을 pop 한다.\\\n",
    "이렇게 pop 된 string에 토큰 네임들을 우선순위를 정하여 출력을 행한다...."
   ]
  },
  {
   "cell_type": "code",
   "execution_count": 50,
   "metadata": {},
   "outputs": [
    {
     "name": "stdout",
     "output_type": "stream",
     "text": [
      "INTEGER   1234\n",
      "\n",
      "INTEGER   1234\n",
      "\n"
     ]
    }
   ],
   "source": [
    "input_string = '1234-1234\\n'\n",
    "\n",
    "#_INTEGER.dfa_clear()\n",
    "\n",
    "for character in input_string: #Literal 의 경우 예외를 두어서 처리해야 할듯....ㅠㅠ\n",
    "    #print(character)\n",
    "    _INT.analyzer(character)\n",
    "    _CHAR.analyzer(character)\n",
    "    _BOOL.analyzer(character)\n",
    "    _STRING.analyzer(character)\n",
    "    _INTEGER.analyzer(character)"
   ]
  },
  {
   "cell_type": "code",
   "execution_count": null,
   "metadata": {},
   "outputs": [],
   "source": []
  },
  {
   "cell_type": "code",
   "execution_count": null,
   "metadata": {},
   "outputs": [],
   "source": []
  }
 ],
 "metadata": {
  "kernelspec": {
   "display_name": "Python 3",
   "language": "python",
   "name": "python3"
  },
  "language_info": {
   "codemirror_mode": {
    "name": "ipython",
    "version": 3
   },
   "file_extension": ".py",
   "mimetype": "text/x-python",
   "name": "python",
   "nbconvert_exporter": "python",
   "pygments_lexer": "ipython3",
   "version": "3.8.5"
  }
 },
 "nbformat": 4,
 "nbformat_minor": 4
}
